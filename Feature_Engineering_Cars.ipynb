{
  "nbformat": 4,
  "nbformat_minor": 0,
  "metadata": {
    "colab": {
      "provenance": [],
      "authorship_tag": "ABX9TyMU+VMpub8PZE3LCr/+Hv8Q",
      "include_colab_link": true
    },
    "kernelspec": {
      "name": "python3",
      "display_name": "Python 3"
    },
    "language_info": {
      "name": "python"
    }
  },
  "cells": [
    {
      "cell_type": "markdown",
      "metadata": {
        "id": "view-in-github",
        "colab_type": "text"
      },
      "source": [
        "<a href=\"https://colab.research.google.com/github/MahsaAbdollahiM/AI_and_ML_Assignment/blob/main/Feature_Engineering_Cars.ipynb\" target=\"_parent\"><img src=\"https://colab.research.google.com/assets/colab-badge.svg\" alt=\"Open In Colab\"/></a>"
      ]
    },
    {
      "cell_type": "code",
      "execution_count": 1,
      "metadata": {
        "id": "cqaY_aufiiu2"
      },
      "outputs": [],
      "source": [
        "import pandas as pd\n",
        "import numpy as np\n",
        "import matplotlib.pyplot as plt\n"
      ]
    },
    {
      "cell_type": "code",
      "source": [
        "cars = pd.read_csv('/content/cars.csv',delimiter = \";\")"
      ],
      "metadata": {
        "id": "Dz1IvJ_2iuWH"
      },
      "execution_count": 2,
      "outputs": []
    },
    {
      "cell_type": "code",
      "source": [
        "prices = cars['sellingprice']\n",
        "#plot a histogram of prices\n",
        "plt.hist(prices, bins=150)\n",
        "plt.show()"
      ],
      "metadata": {
        "colab": {
          "base_uri": "https://localhost:8080/",
          "height": 430
        },
        "id": "KHG3JCTbizoT",
        "outputId": "7f4e2d70-bb98-46cc-eff8-bf705cdf9892"
      },
      "execution_count": 3,
      "outputs": [
        {
          "output_type": "display_data",
          "data": {
            "text/plain": [
              "<Figure size 640x480 with 1 Axes>"
            ],
            "image/png": "[encoded data removed]"
          },
          "metadata": {}
        }
      ]
    },
    {
      "cell_type": "code",
      "source": [
        "## log transform prices\n",
        "log_prices = np.log(prices)\n",
        "\n",
        "##plot a histogram of log_prices\n",
        "plt.hist(log_prices, bins = 150)\n",
        "plt.show()"
      ],
      "metadata": {
        "colab": {
          "base_uri": "https://localhost:8080/",
          "height": 430
        },
        "id": "KdKuDZtpi3wD",
        "outputId": "98e40312-4677-43ab-e9a3-13b16e4917e0"
      },
      "execution_count": 4,
      "outputs": [
        {
          "output_type": "display_data",
          "data": {
            "text/plain": [
              "<Figure size 640x480 with 1 Axes>"
            ],
            "image/png": "[encoded data removed]"
          },
          "metadata": {}
        }
      ]
    },
    {
      "cell_type": "code",
      "source": [
        "# check the uniqueness\n",
        "cars[\"make\"].nunique()"
      ],
      "metadata": {
        "colab": {
          "base_uri": "https://localhost:8080/"
        },
        "id": "6SN4EZIMi6kA",
        "outputId": "efa9ddd5-8187-4180-9e03-e6d76c4bfc35"
      },
      "execution_count": 5,
      "outputs": [
        {
          "output_type": "execute_result",
          "data": {
            "text/plain": [
              "62"
            ]
          },
          "metadata": {},
          "execution_count": 5
        }
      ]
    },
    {
      "cell_type": "code",
      "source": [
        "cars[\"make\"].unique()"
      ],
      "metadata": {
        "colab": {
          "base_uri": "https://localhost:8080/"
        },
        "id": "qIrQsNlBi8Zf",
        "outputId": "20511654-73bf-4e33-b85a-76c8d1b5954f"
      },
      "execution_count": 6,
      "outputs": [
        {
          "output_type": "execute_result",
          "data": {
            "text/plain": [
              "array(['Chrysler', 'Volkswagen', 'Dodge', 'Mercedes-Benz', 'Ford',\n",
              "       'Toyota', 'Honda', 'Nissan', 'Chevrolet', 'Jeep', 'Hyundai', 'GMC',\n",
              "       'Jaguar', 'Audi', 'Lexus', 'Pontiac', 'BMW', nan, 'Suzuki',\n",
              "       'Mitsubishi', 'Kia', 'MINI', 'Ram', 'Acura', 'Subaru', 'Buick',\n",
              "       'Mazda', 'Volvo', 'Infiniti', 'mazda', 'cadillac', 'Isuzu', 'bmw',\n",
              "       'Mercury', 'Land Rover', 'Lincoln', 'smart', 'nissan', 'HUMMER',\n",
              "       'Cadillac', 'Saturn', 'Scion', 'Saab', 'FIAT', 'Porsche',\n",
              "       'Rolls-Royce', 'Oldsmobile', 'chevrolet', 'lexus', 'mercedes',\n",
              "       'ford', 'chrysler', 'Daewoo', 'Maserati', 'hyundai', 'dodge',\n",
              "       'toyota', 'land rover', 'jeep', 'mitsubishi', 'subaru',\n",
              "       'oldsmobile', 'honda'], dtype=object)"
            ]
          },
          "metadata": {},
          "execution_count": 6
        }
      ]
    },
    {
      "cell_type": "code",
      "source": [
        "#take one name as an example\n",
        "#Volkswagen\n",
        "Volkswagen_cars = cars[cars[\"make\"]==\"Volkswagen\"]\n",
        "Volkswagen_cars.head()"
      ],
      "metadata": {
        "colab": {
          "base_uri": "https://localhost:8080/",
          "height": 678
        },
        "id": "P9xeCUw3i-LJ",
        "outputId": "6d45a250-adfc-4fdc-a295-a79ddb09f2ce"
      },
      "execution_count": 7,
      "outputs": [
        {
          "output_type": "execute_result",
          "data": {
            "text/plain": [
              "     Unnamed: 0  year        make       model             trim         body  \\\n",
              "1        197199  2014  Volkswagen       Jetta                S        Sedan   \n",
              "64       451301  2013  Volkswagen      Passat          SE PZEV        sedan   \n",
              "123       76803  2009  Volkswagen      Passat          Komfort        Sedan   \n",
              "165      244557  2008  Volkswagen  New Beetle          SE PZEV  Convertible   \n",
              "204       54031  2012  Volkswagen      Passat  TDI SEL Premium        Sedan   \n",
              "\n",
              "    transmission                vin state  condition  odometer  color  \\\n",
              "1         manual  3vw1k7aj9em275429    ca        4.9    7740.0      —   \n",
              "64     automatic  1vwbp7a30dc098938    fl        3.5   56131.0  white   \n",
              "123    automatic  wvwjk73c89p028582    fl        2.8  104654.0   blue   \n",
              "165    automatic  3vwrg31y78m403214    ca        4.4   48426.0  beige   \n",
              "204    automatic  1vwcn7a31cc002307    ma        3.4   95629.0  black   \n",
              "\n",
              "    interior                           seller    mmr  sellingprice  \\\n",
              "1      black         volkswagen credit inc/sc  12050         12750   \n",
              "64     black            the hertz corporation  10950         11300   \n",
              "123    black  holman honda of fort lauderdale   6075          6500   \n",
              "165      tan                   bob baker jeep   7625          9250   \n",
              "204      tan                      clay subaru  14050         11000   \n",
              "\n",
              "                                    saledate  Unnamed: 16  \n",
              "1    Wed Jul 01 2015 09:30:00 GMT-0700 (PDT)          NaN  \n",
              "64   Tue May 26 2015 02:15:00 GMT-0700 (PDT)          NaN  \n",
              "123  Fri Jan 02 2015 09:35:00 GMT-0800 (PST)          NaN  \n",
              "165  Wed Feb 04 2015 04:15:00 GMT-0800 (PST)          NaN  \n",
              "204  Tue Dec 23 2014 10:00:00 GMT-0800 (PST)          NaN  "
            ],
            "text/html": [
              "\n",
              "  <div id=\"df-4dae176d-a839-44a4-ae93-69bd6a7a1bda\" class=\"colab-df-container\">\n",
              "    <div>\n",
              "<style scoped>\n",
              "    .dataframe tbody tr th:only-of-type {\n",
              "        vertical-align: middle;\n",
              "    }\n",
              "\n",
              "    .dataframe tbody tr th {\n",
              "        vertical-align: top;\n",
              "    }\n",
              "\n",
              "    .dataframe thead th {\n",
              "        text-align: right;\n",
              "    }\n",
              "</style>\n",
              "<table border=\"1\" class=\"dataframe\">\n",
              "  <thead>\n",
              "    <tr style=\"text-align: right;\">\n",
              "      <th></th>\n",
              "      <th>Unnamed: 0</th>\n",
              "      <th>year</th>\n",
              "      <th>make</th>\n",
              "      <th>model</th>\n",
              "      <th>trim</th>\n",
              "      <th>body</th>\n",
              "      <th>transmission</th>\n",
              "      <th>vin</th>\n",
              "      <th>state</th>\n",
              "      <th>condition</th>\n",
              "      <th>odometer</th>\n",
              "      <th>color</th>\n",
              "      <th>interior</th>\n",
              "      <th>seller</th>\n",
              "      <th>mmr</th>\n",
              "      <th>sellingprice</th>\n",
              "      <th>saledate</th>\n",
              "      <th>Unnamed: 16</th>\n",
              "    </tr>\n",
              "  </thead>\n",
              "  <tbody>\n",
              "    <tr>\n",
              "      <th>1</th>\n",
              "      <td>197199</td>\n",
              "      <td>2014</td>\n",
              "      <td>Volkswagen</td>\n",
              "      <td>Jetta</td>\n",
              "      <td>S</td>\n",
              "      <td>Sedan</td>\n",
              "      <td>manual</td>\n",
              "      <td>3vw1k7aj9em275429</td>\n",
              "      <td>ca</td>\n",
              "      <td>4.9</td>\n",
              "      <td>7740.0</td>\n",
              "      <td>—</td>\n",
              "      <td>black</td>\n",
              "      <td>volkswagen credit inc/sc</td>\n",
              "      <td>12050</td>\n",
              "      <td>12750</td>\n",
              "      <td>Wed Jul 01 2015 09:30:00 GMT-0700 (PDT)</td>\n",
              "      <td>NaN</td>\n",
              "    </tr>\n",
              "    <tr>\n",
              "      <th>64</th>\n",
              "      <td>451301</td>\n",
              "      <td>2013</td>\n",
              "      <td>Volkswagen</td>\n",
              "      <td>Passat</td>\n",
              "      <td>SE PZEV</td>\n",
              "      <td>sedan</td>\n",
              "      <td>automatic</td>\n",
              "      <td>1vwbp7a30dc098938</td>\n",
              "      <td>fl</td>\n",
              "      <td>3.5</td>\n",
              "      <td>56131.0</td>\n",
              "      <td>white</td>\n",
              "      <td>black</td>\n",
              "      <td>the hertz corporation</td>\n",
              "      <td>10950</td>\n",
              "      <td>11300</td>\n",
              "      <td>Tue May 26 2015 02:15:00 GMT-0700 (PDT)</td>\n",
              "      <td>NaN</td>\n",
              "    </tr>\n",
              "    <tr>\n",
              "      <th>123</th>\n",
              "      <td>76803</td>\n",
              "      <td>2009</td>\n",
              "      <td>Volkswagen</td>\n",
              "      <td>Passat</td>\n",
              "      <td>Komfort</td>\n",
              "      <td>Sedan</td>\n",
              "      <td>automatic</td>\n",
              "      <td>wvwjk73c89p028582</td>\n",
              "      <td>fl</td>\n",
              "      <td>2.8</td>\n",
              "      <td>104654.0</td>\n",
              "      <td>blue</td>\n",
              "      <td>black</td>\n",
              "      <td>holman honda of fort lauderdale</td>\n",
              "      <td>6075</td>\n",
              "      <td>6500</td>\n",
              "      <td>Fri Jan 02 2015 09:35:00 GMT-0800 (PST)</td>\n",
              "      <td>NaN</td>\n",
              "    </tr>\n",
              "    <tr>\n",
              "      <th>165</th>\n",
              "      <td>244557</td>\n",
              "      <td>2008</td>\n",
              "      <td>Volkswagen</td>\n",
              "      <td>New Beetle</td>\n",
              "      <td>SE PZEV</td>\n",
              "      <td>Convertible</td>\n",
              "      <td>automatic</td>\n",
              "      <td>3vwrg31y78m403214</td>\n",
              "      <td>ca</td>\n",
              "      <td>4.4</td>\n",
              "      <td>48426.0</td>\n",
              "      <td>beige</td>\n",
              "      <td>tan</td>\n",
              "      <td>bob baker jeep</td>\n",
              "      <td>7625</td>\n",
              "      <td>9250</td>\n",
              "      <td>Wed Feb 04 2015 04:15:00 GMT-0800 (PST)</td>\n",
              "      <td>NaN</td>\n",
              "    </tr>\n",
              "    <tr>\n",
              "      <th>204</th>\n",
              "      <td>54031</td>\n",
              "      <td>2012</td>\n",
              "      <td>Volkswagen</td>\n",
              "      <td>Passat</td>\n",
              "      <td>TDI SEL Premium</td>\n",
              "      <td>Sedan</td>\n",
              "      <td>automatic</td>\n",
              "      <td>1vwcn7a31cc002307</td>\n",
              "      <td>ma</td>\n",
              "      <td>3.4</td>\n",
              "      <td>95629.0</td>\n",
              "      <td>black</td>\n",
              "      <td>tan</td>\n",
              "      <td>clay subaru</td>\n",
              "      <td>14050</td>\n",
              "      <td>11000</td>\n",
              "      <td>Tue Dec 23 2014 10:00:00 GMT-0800 (PST)</td>\n",
              "      <td>NaN</td>\n",
              "    </tr>\n",
              "  </tbody>\n",
              "</table>\n",
              "</div>\n",
              "    <div class=\"colab-df-buttons\">\n",
              "\n",
              "  <div class=\"colab-df-container\">\n",
              "    <button class=\"colab-df-convert\" onclick=\"convertToInteractive('df-4dae176d-a839-44a4-ae93-69bd6a7a1bda')\"\n",
              "            title=\"Convert this dataframe to an interactive table.\"\n",
              "            style=\"display:none;\">\n",
              "\n",
              "  <svg xmlns=\"http://www.w3.org/2000/svg\" height=\"24px\" viewBox=\"0 -960 960 960\">\n",
              "    <path d=\"M120-120v-720h720v720H120Zm60-500h600v-160H180v160Zm220 220h160v-160H400v160Zm0 220h160v-160H400v160ZM180-400h160v-160H180v160Zm440 0h160v-160H620v160ZM180-180h160v-160H180v160Zm440 0h160v-160H620v160Z\"/>\n",
              "  </svg>\n",
              "    </button>\n",
              "\n",
              "  <style>\n",
              "    .colab-df-container {\n",
              "      display:flex;\n",
              "      gap: 12px;\n",
              "    }\n",
              "\n",
              "    .colab-df-convert {\n",
              "      background-color: #E8F0FE;\n",
              "      border: none;\n",
              "      border-radius: 50%;\n",
              "      cursor: pointer;\n",
              "      display: none;\n",
              "      fill: #1967D2;\n",
              "      height: 32px;\n",
              "      padding: 0 0 0 0;\n",
              "      width: 32px;\n",
              "    }\n",
              "\n",
              "    .colab-df-convert:hover {\n",
              "      background-color: #E2EBFA;\n",
              "      box-shadow: 0px 1px 2px rgba(60, 64, 67, 0.3), 0px 1px 3px 1px rgba(60, 64, 67, 0.15);\n",
              "      fill: #174EA6;\n",
              "    }\n",
              "\n",
              "    .colab-df-buttons div {\n",
              "      margin-bottom: 4px;\n",
              "    }\n",
              "\n",
              "    [theme=dark] .colab-df-convert {\n",
              "      background-color: #3B4455;\n",
              "      fill: #D2E3FC;\n",
              "    }\n",
              "\n",
              "    [theme=dark] .colab-df-convert:hover {\n",
              "      background-color: #434B5C;\n",
              "      box-shadow: 0px 1px 3px 1px rgba(0, 0, 0, 0.15);\n",
              "      filter: drop-shadow(0px 1px 2px rgba(0, 0, 0, 0.3));\n",
              "      fill: #FFFFFF;\n",
              "    }\n",
              "  </style>\n",
              "\n",
              "    <script>\n",
              "      const buttonEl =\n",
              "        document.querySelector('#df-4dae176d-a839-44a4-ae93-69bd6a7a1bda button.colab-df-convert');\n",
              "      buttonEl.style.display =\n",
              "        google.colab.kernel.accessAllowed ? 'block' : 'none';\n",
              "\n",
              "      async function convertToInteractive(key) {\n",
              "        const element = document.querySelector('#df-4dae176d-a839-44a4-ae93-69bd6a7a1bda');\n",
              "        const dataTable =\n",
              "          await google.colab.kernel.invokeFunction('convertToInteractive',\n",
              "                                                    [key], {});\n",
              "        if (!dataTable) return;\n",
              "\n",
              "        const docLinkHtml = 'Like what you see? Visit the ' +\n",
              "          '<a target=\"_blank\" href=https://colab.research.google.com/notebooks/data_table.ipynb>data table notebook</a>'\n",
              "          + ' to learn more about interactive tables.';\n",
              "        element.innerHTML = '';\n",
              "        dataTable['output_type'] = 'display_data';\n",
              "        await google.colab.output.renderOutput(dataTable, element);\n",
              "        const docLink = document.createElement('div');\n",
              "        docLink.innerHTML = docLinkHtml;\n",
              "        element.appendChild(docLink);\n",
              "      }\n",
              "    </script>\n",
              "  </div>\n",
              "\n",
              "\n",
              "<div id=\"df-5d47eef3-2e54-4af5-9622-68d3d7f0ac6f\">\n",
              "  <button class=\"colab-df-quickchart\" onclick=\"quickchart('df-5d47eef3-2e54-4af5-9622-68d3d7f0ac6f')\"\n",
              "            title=\"Suggest charts\"\n",
              "            style=\"display:none;\">\n",
              "\n",
              "<svg xmlns=\"http://www.w3.org/2000/svg\" height=\"24px\"viewBox=\"0 0 24 24\"\n",
              "     width=\"24px\">\n",
              "    <g>\n",
              "        <path d=\"M19 3H5c-1.1 0-2 .9-2 2v14c0 1.1.9 2 2 2h14c1.1 0 2-.9 2-2V5c0-1.1-.9-2-2-2zM9 17H7v-7h2v7zm4 0h-2V7h2v10zm4 0h-2v-4h2v4z\"/>\n",
              "    </g>\n",
              "</svg>\n",
              "  </button>\n",
              "\n",
              "<style>\n",
              "  .colab-df-quickchart {\n",
              "      --bg-color: #E8F0FE;\n",
              "      --fill-color: #1967D2;\n",
              "      --hover-bg-color: #E2EBFA;\n",
              "      --hover-fill-color: #174EA6;\n",
              "      --disabled-fill-color: #AAA;\n",
              "      --disabled-bg-color: #DDD;\n",
              "  }\n",
              "\n",
              "  [theme=dark] .colab-df-quickchart {\n",
              "      --bg-color: #3B4455;\n",
              "      --fill-color: #D2E3FC;\n",
              "      --hover-bg-color: #434B5C;\n",
              "      --hover-fill-color: #FFFFFF;\n",
              "      --disabled-bg-color: #3B4455;\n",
              "      --disabled-fill-color: #666;\n",
              "  }\n",
              "\n",
              "  .colab-df-quickchart {\n",
              "    background-color: var(--bg-color);\n",
              "    border: none;\n",
              "    border-radius: 50%;\n",
              "    cursor: pointer;\n",
              "    display: none;\n",
              "    fill: var(--fill-color);\n",
              "    height: 32px;\n",
              "    padding: 0;\n",
              "    width: 32px;\n",
              "  }\n",
              "\n",
              "  .colab-df-quickchart:hover {\n",
              "    background-color: var(--hover-bg-color);\n",
              "    box-shadow: 0 1px 2px rgba(60, 64, 67, 0.3), 0 1px 3px 1px rgba(60, 64, 67, 0.15);\n",
              "    fill: var(--button-hover-fill-color);\n",
              "  }\n",
              "\n",
              "  .colab-df-quickchart-complete:disabled,\n",
              "  .colab-df-quickchart-complete:disabled:hover {\n",
              "    background-color: var(--disabled-bg-color);\n",
              "    fill: var(--disabled-fill-color);\n",
              "    box-shadow: none;\n",
              "  }\n",
              "\n",
              "  .colab-df-spinner {\n",
              "    border: 2px solid var(--fill-color);\n",
              "    border-color: transparent;\n",
              "    border-bottom-color: var(--fill-color);\n",
              "    animation:\n",
              "      spin 1s steps(1) infinite;\n",
              "  }\n",
              "\n",
              "  @keyframes spin {\n",
              "    0% {\n",
              "      border-color: transparent;\n",
              "      border-bottom-color: var(--fill-color);\n",
              "      border-left-color: var(--fill-color);\n",
              "    }\n",
              "    20% {\n",
              "      border-color: transparent;\n",
              "      border-left-color: var(--fill-color);\n",
              "      border-top-color: var(--fill-color);\n",
              "    }\n",
              "    30% {\n",
              "      border-color: transparent;\n",
              "      border-left-color: var(--fill-color);\n",
              "      border-top-color: var(--fill-color);\n",
              "      border-right-color: var(--fill-color);\n",
              "    }\n",
              "    40% {\n",
              "      border-color: transparent;\n",
              "      border-right-color: var(--fill-color);\n",
              "      border-top-color: var(--fill-color);\n",
              "    }\n",
              "    60% {\n",
              "      border-color: transparent;\n",
              "      border-right-color: var(--fill-color);\n",
              "    }\n",
              "    80% {\n",
              "      border-color: transparent;\n",
              "      border-right-color: var(--fill-color);\n",
              "      border-bottom-color: var(--fill-color);\n",
              "    }\n",
              "    90% {\n",
              "      border-color: transparent;\n",
              "      border-bottom-color: var(--fill-color);\n",
              "    }\n",
              "  }\n",
              "</style>\n",
              "\n",
              "  <script>\n",
              "    async function quickchart(key) {\n",
              "      const quickchartButtonEl =\n",
              "        document.querySelector('#' + key + ' button');\n",
              "      quickchartButtonEl.disabled = true;  // To prevent multiple clicks.\n",
              "      quickchartButtonEl.classList.add('colab-df-spinner');\n",
              "      try {\n",
              "        const charts = await google.colab.kernel.invokeFunction(\n",
              "            'suggestCharts', [key], {});\n",
              "      } catch (error) {\n",
              "        console.error('Error during call to suggestCharts:', error);\n",
              "      }\n",
              "      quickchartButtonEl.classList.remove('colab-df-spinner');\n",
              "      quickchartButtonEl.classList.add('colab-df-quickchart-complete');\n",
              "    }\n",
              "    (() => {\n",
              "      let quickchartButtonEl =\n",
              "        document.querySelector('#df-5d47eef3-2e54-4af5-9622-68d3d7f0ac6f button');\n",
              "      quickchartButtonEl.style.display =\n",
              "        google.colab.kernel.accessAllowed ? 'block' : 'none';\n",
              "    })();\n",
              "  </script>\n",
              "</div>\n",
              "    </div>\n",
              "  </div>\n"
            ],
            "application/vnd.google.colaboratory.intrinsic+json": {
              "type": "dataframe",
              "variable_name": "Volkswagen_cars",
              "repr_error": "0"
            }
          },
          "metadata": {},
          "execution_count": 7
        }
      ]
    },
    {
      "cell_type": "code",
      "source": [
        "Volkswagen_cars[\"model\"].unique()"
      ],
      "metadata": {
        "colab": {
          "base_uri": "https://localhost:8080/"
        },
        "id": "UrxagNwbjAG8",
        "outputId": "5f5a9b5e-0caa-46be-b1c0-00f027e6a2e7"
      },
      "execution_count": 8,
      "outputs": [
        {
          "output_type": "execute_result",
          "data": {
            "text/plain": [
              "array(['Jetta', 'Passat', 'New Beetle', 'Golf', 'Jetta SportWagen', 'Eos',\n",
              "       'Tiguan', 'Beetle', 'CC', 'Touareg', 'Jetta GLI', 'R32', 'GTI',\n",
              "       'Golf R', 'Cabrio', 'Jetta Hybrid', 'Routan'], dtype=object)"
            ]
          },
          "metadata": {},
          "execution_count": 8
        }
      ]
    },
    {
      "cell_type": "code",
      "source": [
        "#use the mapping functions\n"
      ],
      "metadata": {
        "id": "dXI2urgsjBir"
      },
      "execution_count": 9,
      "outputs": []
    }
  ]
}