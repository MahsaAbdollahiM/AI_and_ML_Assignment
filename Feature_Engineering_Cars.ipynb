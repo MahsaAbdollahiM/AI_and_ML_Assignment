{
  "nbformat": 4,
  "nbformat_minor": 0,
  "metadata": {
    "colab": {
      "provenance": [],
      "authorship_tag": "ABX9TyM2I+d+2M3VAcID0v5X1X9j",
      "include_colab_link": true
    },
    "kernelspec": {
      "name": "python3",
      "display_name": "Python 3"
    },
    "language_info": {
      "name": "python"
    }
  },
  "cells": [
    {
      "cell_type": "markdown",
      "metadata": {
        "id": "view-in-github",
        "colab_type": "text"
      },
      "source": [
        "<a href=\"https://colab.research.google.com/github/MahsaAbdollahiM/AI_and_ML_Assignment/blob/main/Feature_Engineering_Cars.ipynb\" target=\"_parent\"><img src=\"https://colab.research.google.com/assets/colab-badge.svg\" alt=\"Open In Colab\"/></a>"
      ]
    },
    {
      "cell_type": "code",
      "execution_count": 2,
      "metadata": {
        "id": "cqaY_aufiiu2"
      },
      "outputs": [],
      "source": [
        "#Uploading initial libraries\n",
        "import pandas as pd\n",
        "import numpy as np\n",
        "import matplotlib.pyplot as plt"
      ]
    },
    {
      "cell_type": "code",
      "source": [
        "#Adding the data set\n",
        "cars = pd.read_csv('/content/cars.csv',delimiter = \";\")\n",
        "cars.head()"
      ],
      "metadata": {
        "id": "Dz1IvJ_2iuWH",
        "colab": {
          "base_uri": "https://localhost:8080/",
          "height": 678
        },
        "outputId": "25651164-5381-4b28-b33a-e9ed84372e3e"
      },
      "execution_count": 3,
      "outputs": [
        {
          "output_type": "execute_result",
          "data": {
            "text/plain": [
              "   Unnamed: 0  year           make     model        trim   body transmission  \\\n",
              "0      449069  2006       Chrysler       300        Base  Sedan    automatic   \n",
              "1      197199  2014     Volkswagen     Jetta           S  Sedan       manual   \n",
              "2      288171  2007          Dodge   Durango         SLT    SUV    automatic   \n",
              "3      277025  2013  Mercedes-Benz   E-Class  E350 Sport  Sedan    automatic   \n",
              "4      322760  2013           Ford  Explorer         XLT    SUV    automatic   \n",
              "\n",
              "                 vin state  condition  odometer  color   interior  \\\n",
              "0  2c3ka43r76h366165    il        1.9  119618.0   blue       gray   \n",
              "1  3vw1k7aj9em275429    ca        4.9    7740.0      —      black   \n",
              "2  1d8hd48p97f510727    fl        1.9  166628.0   gold        tan   \n",
              "3  wddhf5kb3da735753    tx        3.8   23923.0  white  off-white   \n",
              "4  1fm5k8d84dgc59887    mi        5.0   18494.0    red      black   \n",
              "\n",
              "                             seller    mmr  sellingprice  \\\n",
              "0                      go financial   4775          2500   \n",
              "1          volkswagen credit inc/sc  12050         12750   \n",
              "2   mid atlantic finance/clearwater   2850          2700   \n",
              "3  mercedes-benz financial services  32200         32000   \n",
              "4     ford motor credit company,llc  29100         28100   \n",
              "\n",
              "                                  saledate  Unnamed: 16  \n",
              "0  Thu May 28 2015 03:00:00 GMT-0700 (PDT)          NaN  \n",
              "1  Wed Jul 01 2015 09:30:00 GMT-0700 (PDT)          NaN  \n",
              "2  Wed Feb 11 2015 08:00:00 GMT-0800 (PST)          NaN  \n",
              "3  Thu Feb 12 2015 03:00:00 GMT-0800 (PST)          NaN  \n",
              "4  Thu Jun 11 2015 02:30:00 GMT-0700 (PDT)          NaN  "
            ],
            "text/html": [
              "\n",
              "  <div id=\"df-23e955f2-d922-4775-a1bd-afef42f6b329\" class=\"colab-df-container\">\n",
              "    <div>\n",
              "<style scoped>\n",
              "    .dataframe tbody tr th:only-of-type {\n",
              "        vertical-align: middle;\n",
              "    }\n",
              "\n",
              "    .dataframe tbody tr th {\n",
              "        vertical-align: top;\n",
              "    }\n",
              "\n",
              "    .dataframe thead th {\n",
              "        text-align: right;\n",
              "    }\n",
              "</style>\n",
              "<table border=\"1\" class=\"dataframe\">\n",
              "  <thead>\n",
              "    <tr style=\"text-align: right;\">\n",
              "      <th></th>\n",
              "      <th>Unnamed: 0</th>\n",
              "      <th>year</th>\n",
              "      <th>make</th>\n",
              "      <th>model</th>\n",
              "      <th>trim</th>\n",
              "      <th>body</th>\n",
              "      <th>transmission</th>\n",
              "      <th>vin</th>\n",
              "      <th>state</th>\n",
              "      <th>condition</th>\n",
              "      <th>odometer</th>\n",
              "      <th>color</th>\n",
              "      <th>interior</th>\n",
              "      <th>seller</th>\n",
              "      <th>mmr</th>\n",
              "      <th>sellingprice</th>\n",
              "      <th>saledate</th>\n",
              "      <th>Unnamed: 16</th>\n",
              "    </tr>\n",
              "  </thead>\n",
              "  <tbody>\n",
              "    <tr>\n",
              "      <th>0</th>\n",
              "      <td>449069</td>\n",
              "      <td>2006</td>\n",
              "      <td>Chrysler</td>\n",
              "      <td>300</td>\n",
              "      <td>Base</td>\n",
              "      <td>Sedan</td>\n",
              "      <td>automatic</td>\n",
              "      <td>2c3ka43r76h366165</td>\n",
              "      <td>il</td>\n",
              "      <td>1.9</td>\n",
              "      <td>119618.0</td>\n",
              "      <td>blue</td>\n",
              "      <td>gray</td>\n",
              "      <td>go financial</td>\n",
              "      <td>4775</td>\n",
              "      <td>2500</td>\n",
              "      <td>Thu May 28 2015 03:00:00 GMT-0700 (PDT)</td>\n",
              "      <td>NaN</td>\n",
              "    </tr>\n",
              "    <tr>\n",
              "      <th>1</th>\n",
              "      <td>197199</td>\n",
              "      <td>2014</td>\n",
              "      <td>Volkswagen</td>\n",
              "      <td>Jetta</td>\n",
              "      <td>S</td>\n",
              "      <td>Sedan</td>\n",
              "      <td>manual</td>\n",
              "      <td>3vw1k7aj9em275429</td>\n",
              "      <td>ca</td>\n",
              "      <td>4.9</td>\n",
              "      <td>7740.0</td>\n",
              "      <td>—</td>\n",
              "      <td>black</td>\n",
              "      <td>volkswagen credit inc/sc</td>\n",
              "      <td>12050</td>\n",
              "      <td>12750</td>\n",
              "      <td>Wed Jul 01 2015 09:30:00 GMT-0700 (PDT)</td>\n",
              "      <td>NaN</td>\n",
              "    </tr>\n",
              "    <tr>\n",
              "      <th>2</th>\n",
              "      <td>288171</td>\n",
              "      <td>2007</td>\n",
              "      <td>Dodge</td>\n",
              "      <td>Durango</td>\n",
              "      <td>SLT</td>\n",
              "      <td>SUV</td>\n",
              "      <td>automatic</td>\n",
              "      <td>1d8hd48p97f510727</td>\n",
              "      <td>fl</td>\n",
              "      <td>1.9</td>\n",
              "      <td>166628.0</td>\n",
              "      <td>gold</td>\n",
              "      <td>tan</td>\n",
              "      <td>mid atlantic finance/clearwater</td>\n",
              "      <td>2850</td>\n",
              "      <td>2700</td>\n",
              "      <td>Wed Feb 11 2015 08:00:00 GMT-0800 (PST)</td>\n",
              "      <td>NaN</td>\n",
              "    </tr>\n",
              "    <tr>\n",
              "      <th>3</th>\n",
              "      <td>277025</td>\n",
              "      <td>2013</td>\n",
              "      <td>Mercedes-Benz</td>\n",
              "      <td>E-Class</td>\n",
              "      <td>E350 Sport</td>\n",
              "      <td>Sedan</td>\n",
              "      <td>automatic</td>\n",
              "      <td>wddhf5kb3da735753</td>\n",
              "      <td>tx</td>\n",
              "      <td>3.8</td>\n",
              "      <td>23923.0</td>\n",
              "      <td>white</td>\n",
              "      <td>off-white</td>\n",
              "      <td>mercedes-benz financial services</td>\n",
              "      <td>32200</td>\n",
              "      <td>32000</td>\n",
              "      <td>Thu Feb 12 2015 03:00:00 GMT-0800 (PST)</td>\n",
              "      <td>NaN</td>\n",
              "    </tr>\n",
              "    <tr>\n",
              "      <th>4</th>\n",
              "      <td>322760</td>\n",
              "      <td>2013</td>\n",
              "      <td>Ford</td>\n",
              "      <td>Explorer</td>\n",
              "      <td>XLT</td>\n",
              "      <td>SUV</td>\n",
              "      <td>automatic</td>\n",
              "      <td>1fm5k8d84dgc59887</td>\n",
              "      <td>mi</td>\n",
              "      <td>5.0</td>\n",
              "      <td>18494.0</td>\n",
              "      <td>red</td>\n",
              "      <td>black</td>\n",
              "      <td>ford motor credit company,llc</td>\n",
              "      <td>29100</td>\n",
              "      <td>28100</td>\n",
              "      <td>Thu Jun 11 2015 02:30:00 GMT-0700 (PDT)</td>\n",
              "      <td>NaN</td>\n",
              "    </tr>\n",
              "  </tbody>\n",
              "</table>\n",
              "</div>\n",
              "    <div class=\"colab-df-buttons\">\n",
              "\n",
              "  <div class=\"colab-df-container\">\n",
              "    <button class=\"colab-df-convert\" onclick=\"convertToInteractive('df-23e955f2-d922-4775-a1bd-afef42f6b329')\"\n",
              "            title=\"Convert this dataframe to an interactive table.\"\n",
              "            style=\"display:none;\">\n",
              "\n",
              "  <svg xmlns=\"http://www.w3.org/2000/svg\" height=\"24px\" viewBox=\"0 -960 960 960\">\n",
              "    <path d=\"M120-120v-720h720v720H120Zm60-500h600v-160H180v160Zm220 220h160v-160H400v160Zm0 220h160v-160H400v160ZM180-400h160v-160H180v160Zm440 0h160v-160H620v160ZM180-180h160v-160H180v160Zm440 0h160v-160H620v160Z\"/>\n",
              "  </svg>\n",
              "    </button>\n",
              "\n",
              "  <style>\n",
              "    .colab-df-container {\n",
              "      display:flex;\n",
              "      gap: 12px;\n",
              "    }\n",
              "\n",
              "    .colab-df-convert {\n",
              "      background-color: #E8F0FE;\n",
              "      border: none;\n",
              "      border-radius: 50%;\n",
              "      cursor: pointer;\n",
              "      display: none;\n",
              "      fill: #1967D2;\n",
              "      height: 32px;\n",
              "      padding: 0 0 0 0;\n",
              "      width: 32px;\n",
              "    }\n",
              "\n",
              "    .colab-df-convert:hover {\n",
              "      background-color: #E2EBFA;\n",
              "      box-shadow: 0px 1px 2px rgba(60, 64, 67, 0.3), 0px 1px 3px 1px rgba(60, 64, 67, 0.15);\n",
              "      fill: #174EA6;\n",
              "    }\n",
              "\n",
              "    .colab-df-buttons div {\n",
              "      margin-bottom: 4px;\n",
              "    }\n",
              "\n",
              "    [theme=dark] .colab-df-convert {\n",
              "      background-color: #3B4455;\n",
              "      fill: #D2E3FC;\n",
              "    }\n",
              "\n",
              "    [theme=dark] .colab-df-convert:hover {\n",
              "      background-color: #434B5C;\n",
              "      box-shadow: 0px 1px 3px 1px rgba(0, 0, 0, 0.15);\n",
              "      filter: drop-shadow(0px 1px 2px rgba(0, 0, 0, 0.3));\n",
              "      fill: #FFFFFF;\n",
              "    }\n",
              "  </style>\n",
              "\n",
              "    <script>\n",
              "      const buttonEl =\n",
              "        document.querySelector('#df-23e955f2-d922-4775-a1bd-afef42f6b329 button.colab-df-convert');\n",
              "      buttonEl.style.display =\n",
              "        google.colab.kernel.accessAllowed ? 'block' : 'none';\n",
              "\n",
              "      async function convertToInteractive(key) {\n",
              "        const element = document.querySelector('#df-23e955f2-d922-4775-a1bd-afef42f6b329');\n",
              "        const dataTable =\n",
              "          await google.colab.kernel.invokeFunction('convertToInteractive',\n",
              "                                                    [key], {});\n",
              "        if (!dataTable) return;\n",
              "\n",
              "        const docLinkHtml = 'Like what you see? Visit the ' +\n",
              "          '<a target=\"_blank\" href=https://colab.research.google.com/notebooks/data_table.ipynb>data table notebook</a>'\n",
              "          + ' to learn more about interactive tables.';\n",
              "        element.innerHTML = '';\n",
              "        dataTable['output_type'] = 'display_data';\n",
              "        await google.colab.output.renderOutput(dataTable, element);\n",
              "        const docLink = document.createElement('div');\n",
              "        docLink.innerHTML = docLinkHtml;\n",
              "        element.appendChild(docLink);\n",
              "      }\n",
              "    </script>\n",
              "  </div>\n",
              "\n",
              "\n",
              "<div id=\"df-f3166fd6-11c1-482d-8b14-2c28e8066901\">\n",
              "  <button class=\"colab-df-quickchart\" onclick=\"quickchart('df-f3166fd6-11c1-482d-8b14-2c28e8066901')\"\n",
              "            title=\"Suggest charts\"\n",
              "            style=\"display:none;\">\n",
              "\n",
              "<svg xmlns=\"http://www.w3.org/2000/svg\" height=\"24px\"viewBox=\"0 0 24 24\"\n",
              "     width=\"24px\">\n",
              "    <g>\n",
              "        <path d=\"M19 3H5c-1.1 0-2 .9-2 2v14c0 1.1.9 2 2 2h14c1.1 0 2-.9 2-2V5c0-1.1-.9-2-2-2zM9 17H7v-7h2v7zm4 0h-2V7h2v10zm4 0h-2v-4h2v4z\"/>\n",
              "    </g>\n",
              "</svg>\n",
              "  </button>\n",
              "\n",
              "<style>\n",
              "  .colab-df-quickchart {\n",
              "      --bg-color: #E8F0FE;\n",
              "      --fill-color: #1967D2;\n",
              "      --hover-bg-color: #E2EBFA;\n",
              "      --hover-fill-color: #174EA6;\n",
              "      --disabled-fill-color: #AAA;\n",
              "      --disabled-bg-color: #DDD;\n",
              "  }\n",
              "\n",
              "  [theme=dark] .colab-df-quickchart {\n",
              "      --bg-color: #3B4455;\n",
              "      --fill-color: #D2E3FC;\n",
              "      --hover-bg-color: #434B5C;\n",
              "      --hover-fill-color: #FFFFFF;\n",
              "      --disabled-bg-color: #3B4455;\n",
              "      --disabled-fill-color: #666;\n",
              "  }\n",
              "\n",
              "  .colab-df-quickchart {\n",
              "    background-color: var(--bg-color);\n",
              "    border: none;\n",
              "    border-radius: 50%;\n",
              "    cursor: pointer;\n",
              "    display: none;\n",
              "    fill: var(--fill-color);\n",
              "    height: 32px;\n",
              "    padding: 0;\n",
              "    width: 32px;\n",
              "  }\n",
              "\n",
              "  .colab-df-quickchart:hover {\n",
              "    background-color: var(--hover-bg-color);\n",
              "    box-shadow: 0 1px 2px rgba(60, 64, 67, 0.3), 0 1px 3px 1px rgba(60, 64, 67, 0.15);\n",
              "    fill: var(--button-hover-fill-color);\n",
              "  }\n",
              "\n",
              "  .colab-df-quickchart-complete:disabled,\n",
              "  .colab-df-quickchart-complete:disabled:hover {\n",
              "    background-color: var(--disabled-bg-color);\n",
              "    fill: var(--disabled-fill-color);\n",
              "    box-shadow: none;\n",
              "  }\n",
              "\n",
              "  .colab-df-spinner {\n",
              "    border: 2px solid var(--fill-color);\n",
              "    border-color: transparent;\n",
              "    border-bottom-color: var(--fill-color);\n",
              "    animation:\n",
              "      spin 1s steps(1) infinite;\n",
              "  }\n",
              "\n",
              "  @keyframes spin {\n",
              "    0% {\n",
              "      border-color: transparent;\n",
              "      border-bottom-color: var(--fill-color);\n",
              "      border-left-color: var(--fill-color);\n",
              "    }\n",
              "    20% {\n",
              "      border-color: transparent;\n",
              "      border-left-color: var(--fill-color);\n",
              "      border-top-color: var(--fill-color);\n",
              "    }\n",
              "    30% {\n",
              "      border-color: transparent;\n",
              "      border-left-color: var(--fill-color);\n",
              "      border-top-color: var(--fill-color);\n",
              "      border-right-color: var(--fill-color);\n",
              "    }\n",
              "    40% {\n",
              "      border-color: transparent;\n",
              "      border-right-color: var(--fill-color);\n",
              "      border-top-color: var(--fill-color);\n",
              "    }\n",
              "    60% {\n",
              "      border-color: transparent;\n",
              "      border-right-color: var(--fill-color);\n",
              "    }\n",
              "    80% {\n",
              "      border-color: transparent;\n",
              "      border-right-color: var(--fill-color);\n",
              "      border-bottom-color: var(--fill-color);\n",
              "    }\n",
              "    90% {\n",
              "      border-color: transparent;\n",
              "      border-bottom-color: var(--fill-color);\n",
              "    }\n",
              "  }\n",
              "</style>\n",
              "\n",
              "  <script>\n",
              "    async function quickchart(key) {\n",
              "      const quickchartButtonEl =\n",
              "        document.querySelector('#' + key + ' button');\n",
              "      quickchartButtonEl.disabled = true;  // To prevent multiple clicks.\n",
              "      quickchartButtonEl.classList.add('colab-df-spinner');\n",
              "      try {\n",
              "        const charts = await google.colab.kernel.invokeFunction(\n",
              "            'suggestCharts', [key], {});\n",
              "      } catch (error) {\n",
              "        console.error('Error during call to suggestCharts:', error);\n",
              "      }\n",
              "      quickchartButtonEl.classList.remove('colab-df-spinner');\n",
              "      quickchartButtonEl.classList.add('colab-df-quickchart-complete');\n",
              "    }\n",
              "    (() => {\n",
              "      let quickchartButtonEl =\n",
              "        document.querySelector('#df-f3166fd6-11c1-482d-8b14-2c28e8066901 button');\n",
              "      quickchartButtonEl.style.display =\n",
              "        google.colab.kernel.accessAllowed ? 'block' : 'none';\n",
              "    })();\n",
              "  </script>\n",
              "</div>\n",
              "    </div>\n",
              "  </div>\n"
            ],
            "application/vnd.google.colaboratory.intrinsic+json": {
              "type": "dataframe",
              "variable_name": "cars",
              "summary": "{\n  \"name\": \"cars\",\n  \"rows\": 10000,\n  \"fields\": [\n    {\n      \"column\": \"Unnamed: 0\",\n      \"properties\": {\n        \"dtype\": \"number\",\n        \"std\": 161679,\n        \"min\": 24,\n        \"max\": 558812,\n        \"num_unique_values\": 10000,\n        \"samples\": [\n          312290,\n          278676,\n          41239\n        ],\n        \"semantic_type\": \"\",\n        \"description\": \"\"\n      }\n    },\n    {\n      \"column\": \"year\",\n      \"properties\": {\n        \"dtype\": \"number\",\n        \"std\": 3,\n        \"min\": 1990,\n        \"max\": 2015,\n        \"num_unique_values\": 26,\n        \"samples\": [\n          2010,\n          2015,\n          2006\n        ],\n        \"semantic_type\": \"\",\n        \"description\": \"\"\n      }\n    },\n    {\n      \"column\": \"make\",\n      \"properties\": {\n        \"dtype\": \"category\",\n        \"num_unique_values\": 62,\n        \"samples\": [\n          \"chrysler\",\n          \"land rover\",\n          \"Chrysler\"\n        ],\n        \"semantic_type\": \"\",\n        \"description\": \"\"\n      }\n    },\n    {\n      \"column\": \"model\",\n      \"properties\": {\n        \"dtype\": \"category\",\n        \"num_unique_values\": 539,\n        \"samples\": [\n          \"Intrigue\",\n          \"Stratus\",\n          \"Outlook\"\n        ],\n        \"semantic_type\": \"\",\n        \"description\": \"\"\n      }\n    },\n    {\n      \"column\": \"trim\",\n      \"properties\": {\n        \"dtype\": \"category\",\n        \"num_unique_values\": 696,\n        \"samples\": [\n          \"Green Line\",\n          \"ZTS\",\n          \"se\"\n        ],\n        \"semantic_type\": \"\",\n        \"description\": \"\"\n      }\n    },\n    {\n      \"column\": \"body\",\n      \"properties\": {\n        \"dtype\": \"category\",\n        \"num_unique_values\": 55,\n        \"samples\": [\n          \"supercab\",\n          \"sedan\",\n          \"E-Series Van\"\n        ],\n        \"semantic_type\": \"\",\n        \"description\": \"\"\n      }\n    },\n    {\n      \"column\": \"transmission\",\n      \"properties\": {\n        \"dtype\": \"category\",\n        \"num_unique_values\": 2,\n        \"samples\": [\n          \"manual\",\n          \"automatic\"\n        ],\n        \"semantic_type\": \"\",\n        \"description\": \"\"\n      }\n    },\n    {\n      \"column\": \"vin\",\n      \"properties\": {\n        \"dtype\": \"string\",\n        \"num_unique_values\": 9995,\n        \"samples\": [\n          \"1zvbp8cf8b5158141\",\n          \"4t1bf1fk6eu406351\"\n        ],\n        \"semantic_type\": \"\",\n        \"description\": \"\"\n      }\n    },\n    {\n      \"column\": \"state\",\n      \"properties\": {\n        \"dtype\": \"category\",\n        \"num_unique_values\": 36,\n        \"samples\": [\n          \"ns\",\n          \"md\"\n        ],\n        \"semantic_type\": \"\",\n        \"description\": \"\"\n      }\n    },\n    {\n      \"column\": \"condition\",\n      \"properties\": {\n        \"dtype\": \"number\",\n        \"std\": 0.9421515992568502,\n        \"min\": 1.0,\n        \"max\": 5.0,\n        \"num_unique_values\": 40,\n        \"samples\": [\n          2.2,\n          3.0\n        ],\n        \"semantic_type\": \"\",\n        \"description\": \"\"\n      }\n    },\n    {\n      \"column\": \"odometer\",\n      \"properties\": {\n        \"dtype\": \"number\",\n        \"std\": 51742.32170413279,\n        \"min\": 1.0,\n        \"max\": 456004.0,\n        \"num_unique_values\": 9617,\n        \"samples\": [\n          99440.0,\n          52304.0\n        ],\n        \"semantic_type\": \"\",\n        \"description\": \"\"\n      }\n    },\n    {\n      \"column\": \"color\",\n      \"properties\": {\n        \"dtype\": \"category\",\n        \"num_unique_values\": 19,\n        \"samples\": [\n          \"blue\",\n          \"silver\"\n        ],\n        \"semantic_type\": \"\",\n        \"description\": \"\"\n      }\n    },\n    {\n      \"column\": \"interior\",\n      \"properties\": {\n        \"dtype\": \"category\",\n        \"num_unique_values\": 16,\n        \"samples\": [\n          \"gray\",\n          \"black\"\n        ],\n        \"semantic_type\": \"\",\n        \"description\": \"\"\n      }\n    },\n    {\n      \"column\": \"seller\",\n      \"properties\": {\n        \"dtype\": \"category\",\n        \"num_unique_values\": 2238,\n        \"samples\": [\n          \"remarketing by ge/america first credit union\",\n          \"bmw alphera/alphera financial services\"\n        ],\n        \"semantic_type\": \"\",\n        \"description\": \"\"\n      }\n    },\n    {\n      \"column\": \"mmr\",\n      \"properties\": {\n        \"dtype\": \"number\",\n        \"std\": 9760,\n        \"min\": 125,\n        \"max\": 161000,\n        \"num_unique_values\": 887,\n        \"samples\": [\n          9675,\n          18250\n        ],\n        \"semantic_type\": \"\",\n        \"description\": \"\"\n      }\n    },\n    {\n      \"column\": \"sellingprice\",\n      \"properties\": {\n        \"dtype\": \"number\",\n        \"std\": 9849,\n        \"min\": 200,\n        \"max\": 161000,\n        \"num_unique_values\": 662,\n        \"samples\": [\n          30700,\n          43000\n        ],\n        \"semantic_type\": \"\",\n        \"description\": \"\"\n      }\n    },\n    {\n      \"column\": \"saledate\",\n      \"properties\": {\n        \"dtype\": \"object\",\n        \"num_unique_values\": 1438,\n        \"samples\": [\n          \"Tue Dec 30 2014 13:00:00 GMT-0800 (PST)\",\n          \"Wed Jan 21 2015 04:05:00 GMT-0800 (PST)\"\n        ],\n        \"semantic_type\": \"\",\n        \"description\": \"\"\n      }\n    },\n    {\n      \"column\": \"Unnamed: 16\",\n      \"properties\": {\n        \"dtype\": \"number\",\n        \"std\": null,\n        \"min\": null,\n        \"max\": null,\n        \"num_unique_values\": 0,\n        \"samples\": [],\n        \"semantic_type\": \"\",\n        \"description\": \"\"\n      }\n    }\n  ]\n}"
            }
          },
          "metadata": {},
          "execution_count": 3
        }
      ]
    },
    {
      "cell_type": "code",
      "source": [
        "prices = cars['sellingprice']\n",
        "#plot a histogram of prices\n",
        "plt.hist(prices, bins=150)\n",
        "plt.title('Cars Selling Prices')\n",
        "plt.xlabel('Selling Prices')\n",
        "plt.ylabel('Frequency')\n",
        "plt.show()"
      ],
      "metadata": {
        "colab": {
          "base_uri": "https://localhost:8080/",
          "height": 472
        },
        "id": "KHG3JCTbizoT",
        "outputId": "59d4b0ac-814e-465d-fdf8-3eac0285b850"
      },
      "execution_count": 6,
      "outputs": [
        {
          "output_type": "display_data",
          "data": {
            "text/plain": [
              "<Figure size 640x480 with 1 Axes>"
            ],
            "image/png": "[encoded data removed]"
          },
          "metadata": {}
        }
      ]
    },
    {
      "cell_type": "code",
      "source": [
        "## log transform prices\n",
        "log_prices = np.log(prices)\n",
        "\n",
        "##plot a histogram of log_prices\n",
        "plt.hist(log_prices, bins = 150)\n",
        "plt.title('Cars Selling Prices')\n",
        "plt.xlabel('log_prices')\n",
        "plt.ylabel('Frequency')\n",
        "plt.show()"
      ],
      "metadata": {
        "colab": {
          "base_uri": "https://localhost:8080/",
          "height": 472
        },
        "id": "KdKuDZtpi3wD",
        "outputId": "f99fa933-30dd-4c12-ac08-983fac8dbacb"
      },
      "execution_count": 7,
      "outputs": [
        {
          "output_type": "display_data",
          "data": {
            "text/plain": [
              "<Figure size 640x480 with 1 Axes>"
            ],
            "image/png": "[encoded data removed]"
          },
          "metadata": {}
        }
      ]
    },
    {
      "cell_type": "code",
      "source": [
        "# check the number of unique entries\n",
        "cars[\"make\"].nunique()"
      ],
      "metadata": {
        "colab": {
          "base_uri": "https://localhost:8080/"
        },
        "id": "6SN4EZIMi6kA",
        "outputId": "6d3a2e31-c86d-4595-8e14-b847b562c6b8"
      },
      "execution_count": null,
      "outputs": [
        {
          "output_type": "execute_result",
          "data": {
            "text/plain": [
              "62"
            ]
          },
          "metadata": {},
          "execution_count": 9
        }
      ]
    },
    {
      "cell_type": "code",
      "source": [
        "#check the unique entries\n",
        "cars[\"make\"].unique()"
      ],
      "metadata": {
        "colab": {
          "base_uri": "https://localhost:8080/"
        },
        "id": "qIrQsNlBi8Zf",
        "outputId": "fcd59b75-77a9-4bda-d89a-a25d80e148a7"
      },
      "execution_count": null,
      "outputs": [
        {
          "output_type": "execute_result",
          "data": {
            "text/plain": [
              "array(['Chrysler', 'Volkswagen', 'Dodge', 'Mercedes-Benz', 'Ford',\n",
              "       'Toyota', 'Honda', 'Nissan', 'Chevrolet', 'Jeep', 'Hyundai', 'GMC',\n",
              "       'Jaguar', 'Audi', 'Lexus', 'Pontiac', 'BMW', nan, 'Suzuki',\n",
              "       'Mitsubishi', 'Kia', 'MINI', 'Ram', 'Acura', 'Subaru', 'Buick',\n",
              "       'Mazda', 'Volvo', 'Infiniti', 'mazda', 'cadillac', 'Isuzu', 'bmw',\n",
              "       'Mercury', 'Land Rover', 'Lincoln', 'smart', 'nissan', 'HUMMER',\n",
              "       'Cadillac', 'Saturn', 'Scion', 'Saab', 'FIAT', 'Porsche',\n",
              "       'Rolls-Royce', 'Oldsmobile', 'chevrolet', 'lexus', 'mercedes',\n",
              "       'ford', 'chrysler', 'Daewoo', 'Maserati', 'hyundai', 'dodge',\n",
              "       'toyota', 'land rover', 'jeep', 'mitsubishi', 'subaru',\n",
              "       'oldsmobile', 'honda'], dtype=object)"
            ]
          },
          "metadata": {},
          "execution_count": 10
        }
      ]
    },
    {
      "cell_type": "code",
      "source": [
        "#take one name as an example\n",
        "#Volkswagen\n",
        "Volkswagen_cars = cars[cars[\"make\"]==\"Volkswagen\"]\n",
        "Volkswagen_cars.head()"
      ],
      "metadata": {
        "colab": {
          "base_uri": "https://localhost:8080/",
          "height": 678
        },
        "id": "P9xeCUw3i-LJ",
        "outputId": "505c34aa-09d6-4285-b2b8-8d09b7b01a2d"
      },
      "execution_count": null,
      "outputs": [
        {
          "output_type": "execute_result",
          "data": {
            "text/plain": [
              "     Unnamed: 0  year        make       model             trim         body  \\\n",
              "1        197199  2014  Volkswagen       Jetta                S        Sedan   \n",
              "64       451301  2013  Volkswagen      Passat          SE PZEV        sedan   \n",
              "123       76803  2009  Volkswagen      Passat          Komfort        Sedan   \n",
              "165      244557  2008  Volkswagen  New Beetle          SE PZEV  Convertible   \n",
              "204       54031  2012  Volkswagen      Passat  TDI SEL Premium        Sedan   \n",
              "\n",
              "    transmission                vin state  condition  odometer  color  \\\n",
              "1         manual  3vw1k7aj9em275429    ca        4.9    7740.0      —   \n",
              "64     automatic  1vwbp7a30dc098938    fl        3.5   56131.0  white   \n",
              "123    automatic  wvwjk73c89p028582    fl        2.8  104654.0   blue   \n",
              "165    automatic  3vwrg31y78m403214    ca        4.4   48426.0  beige   \n",
              "204    automatic  1vwcn7a31cc002307    ma        3.4   95629.0  black   \n",
              "\n",
              "    interior                           seller    mmr  sellingprice  \\\n",
              "1      black         volkswagen credit inc/sc  12050         12750   \n",
              "64     black            the hertz corporation  10950         11300   \n",
              "123    black  holman honda of fort lauderdale   6075          6500   \n",
              "165      tan                   bob baker jeep   7625          9250   \n",
              "204      tan                      clay subaru  14050         11000   \n",
              "\n",
              "                                    saledate  Unnamed: 16  \n",
              "1    Wed Jul 01 2015 09:30:00 GMT-0700 (PDT)          NaN  \n",
              "64   Tue May 26 2015 02:15:00 GMT-0700 (PDT)          NaN  \n",
              "123  Fri Jan 02 2015 09:35:00 GMT-0800 (PST)          NaN  \n",
              "165  Wed Feb 04 2015 04:15:00 GMT-0800 (PST)          NaN  \n",
              "204  Tue Dec 23 2014 10:00:00 GMT-0800 (PST)          NaN  "
            ],
            "text/html": [
              "\n",
              "  <div id=\"df-687c917b-9154-4c36-a820-2df7bda29458\" class=\"colab-df-container\">\n",
              "    <div>\n",
              "<style scoped>\n",
              "    .dataframe tbody tr th:only-of-type {\n",
              "        vertical-align: middle;\n",
              "    }\n",
              "\n",
              "    .dataframe tbody tr th {\n",
              "        vertical-align: top;\n",
              "    }\n",
              "\n",
              "    .dataframe thead th {\n",
              "        text-align: right;\n",
              "    }\n",
              "</style>\n",
              "<table border=\"1\" class=\"dataframe\">\n",
              "  <thead>\n",
              "    <tr style=\"text-align: right;\">\n",
              "      <th></th>\n",
              "      <th>Unnamed: 0</th>\n",
              "      <th>year</th>\n",
              "      <th>make</th>\n",
              "      <th>model</th>\n",
              "      <th>trim</th>\n",
              "      <th>body</th>\n",
              "      <th>transmission</th>\n",
              "      <th>vin</th>\n",
              "      <th>state</th>\n",
              "      <th>condition</th>\n",
              "      <th>odometer</th>\n",
              "      <th>color</th>\n",
              "      <th>interior</th>\n",
              "      <th>seller</th>\n",
              "      <th>mmr</th>\n",
              "      <th>sellingprice</th>\n",
              "      <th>saledate</th>\n",
              "      <th>Unnamed: 16</th>\n",
              "    </tr>\n",
              "  </thead>\n",
              "  <tbody>\n",
              "    <tr>\n",
              "      <th>1</th>\n",
              "      <td>197199</td>\n",
              "      <td>2014</td>\n",
              "      <td>Volkswagen</td>\n",
              "      <td>Jetta</td>\n",
              "      <td>S</td>\n",
              "      <td>Sedan</td>\n",
              "      <td>manual</td>\n",
              "      <td>3vw1k7aj9em275429</td>\n",
              "      <td>ca</td>\n",
              "      <td>4.9</td>\n",
              "      <td>7740.0</td>\n",
              "      <td>—</td>\n",
              "      <td>black</td>\n",
              "      <td>volkswagen credit inc/sc</td>\n",
              "      <td>12050</td>\n",
              "      <td>12750</td>\n",
              "      <td>Wed Jul 01 2015 09:30:00 GMT-0700 (PDT)</td>\n",
              "      <td>NaN</td>\n",
              "    </tr>\n",
              "    <tr>\n",
              "      <th>64</th>\n",
              "      <td>451301</td>\n",
              "      <td>2013</td>\n",
              "      <td>Volkswagen</td>\n",
              "      <td>Passat</td>\n",
              "      <td>SE PZEV</td>\n",
              "      <td>sedan</td>\n",
              "      <td>automatic</td>\n",
              "      <td>1vwbp7a30dc098938</td>\n",
              "      <td>fl</td>\n",
              "      <td>3.5</td>\n",
              "      <td>56131.0</td>\n",
              "      <td>white</td>\n",
              "      <td>black</td>\n",
              "      <td>the hertz corporation</td>\n",
              "      <td>10950</td>\n",
              "      <td>11300</td>\n",
              "      <td>Tue May 26 2015 02:15:00 GMT-0700 (PDT)</td>\n",
              "      <td>NaN</td>\n",
              "    </tr>\n",
              "    <tr>\n",
              "      <th>123</th>\n",
              "      <td>76803</td>\n",
              "      <td>2009</td>\n",
              "      <td>Volkswagen</td>\n",
              "      <td>Passat</td>\n",
              "      <td>Komfort</td>\n",
              "      <td>Sedan</td>\n",
              "      <td>automatic</td>\n",
              "      <td>wvwjk73c89p028582</td>\n",
              "      <td>fl</td>\n",
              "      <td>2.8</td>\n",
              "      <td>104654.0</td>\n",
              "      <td>blue</td>\n",
              "      <td>black</td>\n",
              "      <td>holman honda of fort lauderdale</td>\n",
              "      <td>6075</td>\n",
              "      <td>6500</td>\n",
              "      <td>Fri Jan 02 2015 09:35:00 GMT-0800 (PST)</td>\n",
              "      <td>NaN</td>\n",
              "    </tr>\n",
              "    <tr>\n",
              "      <th>165</th>\n",
              "      <td>244557</td>\n",
              "      <td>2008</td>\n",
              "      <td>Volkswagen</td>\n",
              "      <td>New Beetle</td>\n",
              "      <td>SE PZEV</td>\n",
              "      <td>Convertible</td>\n",
              "      <td>automatic</td>\n",
              "      <td>3vwrg31y78m403214</td>\n",
              "      <td>ca</td>\n",
              "      <td>4.4</td>\n",
              "      <td>48426.0</td>\n",
              "      <td>beige</td>\n",
              "      <td>tan</td>\n",
              "      <td>bob baker jeep</td>\n",
              "      <td>7625</td>\n",
              "      <td>9250</td>\n",
              "      <td>Wed Feb 04 2015 04:15:00 GMT-0800 (PST)</td>\n",
              "      <td>NaN</td>\n",
              "    </tr>\n",
              "    <tr>\n",
              "      <th>204</th>\n",
              "      <td>54031</td>\n",
              "      <td>2012</td>\n",
              "      <td>Volkswagen</td>\n",
              "      <td>Passat</td>\n",
              "      <td>TDI SEL Premium</td>\n",
              "      <td>Sedan</td>\n",
              "      <td>automatic</td>\n",
              "      <td>1vwcn7a31cc002307</td>\n",
              "      <td>ma</td>\n",
              "      <td>3.4</td>\n",
              "      <td>95629.0</td>\n",
              "      <td>black</td>\n",
              "      <td>tan</td>\n",
              "      <td>clay subaru</td>\n",
              "      <td>14050</td>\n",
              "      <td>11000</td>\n",
              "      <td>Tue Dec 23 2014 10:00:00 GMT-0800 (PST)</td>\n",
              "      <td>NaN</td>\n",
              "    </tr>\n",
              "  </tbody>\n",
              "</table>\n",
              "</div>\n",
              "    <div class=\"colab-df-buttons\">\n",
              "\n",
              "  <div class=\"colab-df-container\">\n",
              "    <button class=\"colab-df-convert\" onclick=\"convertToInteractive('df-687c917b-9154-4c36-a820-2df7bda29458')\"\n",
              "            title=\"Convert this dataframe to an interactive table.\"\n",
              "            style=\"display:none;\">\n",
              "\n",
              "  <svg xmlns=\"http://www.w3.org/2000/svg\" height=\"24px\" viewBox=\"0 -960 960 960\">\n",
              "    <path d=\"M120-120v-720h720v720H120Zm60-500h600v-160H180v160Zm220 220h160v-160H400v160Zm0 220h160v-160H400v160ZM180-400h160v-160H180v160Zm440 0h160v-160H620v160ZM180-180h160v-160H180v160Zm440 0h160v-160H620v160Z\"/>\n",
              "  </svg>\n",
              "    </button>\n",
              "\n",
              "  <style>\n",
              "    .colab-df-container {\n",
              "      display:flex;\n",
              "      gap: 12px;\n",
              "    }\n",
              "\n",
              "    .colab-df-convert {\n",
              "      background-color: #E8F0FE;\n",
              "      border: none;\n",
              "      border-radius: 50%;\n",
              "      cursor: pointer;\n",
              "      display: none;\n",
              "      fill: #1967D2;\n",
              "      height: 32px;\n",
              "      padding: 0 0 0 0;\n",
              "      width: 32px;\n",
              "    }\n",
              "\n",
              "    .colab-df-convert:hover {\n",
              "      background-color: #E2EBFA;\n",
              "      box-shadow: 0px 1px 2px rgba(60, 64, 67, 0.3), 0px 1px 3px 1px rgba(60, 64, 67, 0.15);\n",
              "      fill: #174EA6;\n",
              "    }\n",
              "\n",
              "    .colab-df-buttons div {\n",
              "      margin-bottom: 4px;\n",
              "    }\n",
              "\n",
              "    [theme=dark] .colab-df-convert {\n",
              "      background-color: #3B4455;\n",
              "      fill: #D2E3FC;\n",
              "    }\n",
              "\n",
              "    [theme=dark] .colab-df-convert:hover {\n",
              "      background-color: #434B5C;\n",
              "      box-shadow: 0px 1px 3px 1px rgba(0, 0, 0, 0.15);\n",
              "      filter: drop-shadow(0px 1px 2px rgba(0, 0, 0, 0.3));\n",
              "      fill: #FFFFFF;\n",
              "    }\n",
              "  </style>\n",
              "\n",
              "    <script>\n",
              "      const buttonEl =\n",
              "        document.querySelector('#df-687c917b-9154-4c36-a820-2df7bda29458 button.colab-df-convert');\n",
              "      buttonEl.style.display =\n",
              "        google.colab.kernel.accessAllowed ? 'block' : 'none';\n",
              "\n",
              "      async function convertToInteractive(key) {\n",
              "        const element = document.querySelector('#df-687c917b-9154-4c36-a820-2df7bda29458');\n",
              "        const dataTable =\n",
              "          await google.colab.kernel.invokeFunction('convertToInteractive',\n",
              "                                                    [key], {});\n",
              "        if (!dataTable) return;\n",
              "\n",
              "        const docLinkHtml = 'Like what you see? Visit the ' +\n",
              "          '<a target=\"_blank\" href=https://colab.research.google.com/notebooks/data_table.ipynb>data table notebook</a>'\n",
              "          + ' to learn more about interactive tables.';\n",
              "        element.innerHTML = '';\n",
              "        dataTable['output_type'] = 'display_data';\n",
              "        await google.colab.output.renderOutput(dataTable, element);\n",
              "        const docLink = document.createElement('div');\n",
              "        docLink.innerHTML = docLinkHtml;\n",
              "        element.appendChild(docLink);\n",
              "      }\n",
              "    </script>\n",
              "  </div>\n",
              "\n",
              "\n",
              "<div id=\"df-045d1a3d-c713-488e-9d27-f484b24972db\">\n",
              "  <button class=\"colab-df-quickchart\" onclick=\"quickchart('df-045d1a3d-c713-488e-9d27-f484b24972db')\"\n",
              "            title=\"Suggest charts\"\n",
              "            style=\"display:none;\">\n",
              "\n",
              "<svg xmlns=\"http://www.w3.org/2000/svg\" height=\"24px\"viewBox=\"0 0 24 24\"\n",
              "     width=\"24px\">\n",
              "    <g>\n",
              "        <path d=\"M19 3H5c-1.1 0-2 .9-2 2v14c0 1.1.9 2 2 2h14c1.1 0 2-.9 2-2V5c0-1.1-.9-2-2-2zM9 17H7v-7h2v7zm4 0h-2V7h2v10zm4 0h-2v-4h2v4z\"/>\n",
              "    </g>\n",
              "</svg>\n",
              "  </button>\n",
              "\n",
              "<style>\n",
              "  .colab-df-quickchart {\n",
              "      --bg-color: #E8F0FE;\n",
              "      --fill-color: #1967D2;\n",
              "      --hover-bg-color: #E2EBFA;\n",
              "      --hover-fill-color: #174EA6;\n",
              "      --disabled-fill-color: #AAA;\n",
              "      --disabled-bg-color: #DDD;\n",
              "  }\n",
              "\n",
              "  [theme=dark] .colab-df-quickchart {\n",
              "      --bg-color: #3B4455;\n",
              "      --fill-color: #D2E3FC;\n",
              "      --hover-bg-color: #434B5C;\n",
              "      --hover-fill-color: #FFFFFF;\n",
              "      --disabled-bg-color: #3B4455;\n",
              "      --disabled-fill-color: #666;\n",
              "  }\n",
              "\n",
              "  .colab-df-quickchart {\n",
              "    background-color: var(--bg-color);\n",
              "    border: none;\n",
              "    border-radius: 50%;\n",
              "    cursor: pointer;\n",
              "    display: none;\n",
              "    fill: var(--fill-color);\n",
              "    height: 32px;\n",
              "    padding: 0;\n",
              "    width: 32px;\n",
              "  }\n",
              "\n",
              "  .colab-df-quickchart:hover {\n",
              "    background-color: var(--hover-bg-color);\n",
              "    box-shadow: 0 1px 2px rgba(60, 64, 67, 0.3), 0 1px 3px 1px rgba(60, 64, 67, 0.15);\n",
              "    fill: var(--button-hover-fill-color);\n",
              "  }\n",
              "\n",
              "  .colab-df-quickchart-complete:disabled,\n",
              "  .colab-df-quickchart-complete:disabled:hover {\n",
              "    background-color: var(--disabled-bg-color);\n",
              "    fill: var(--disabled-fill-color);\n",
              "    box-shadow: none;\n",
              "  }\n",
              "\n",
              "  .colab-df-spinner {\n",
              "    border: 2px solid var(--fill-color);\n",
              "    border-color: transparent;\n",
              "    border-bottom-color: var(--fill-color);\n",
              "    animation:\n",
              "      spin 1s steps(1) infinite;\n",
              "  }\n",
              "\n",
              "  @keyframes spin {\n",
              "    0% {\n",
              "      border-color: transparent;\n",
              "      border-bottom-color: var(--fill-color);\n",
              "      border-left-color: var(--fill-color);\n",
              "    }\n",
              "    20% {\n",
              "      border-color: transparent;\n",
              "      border-left-color: var(--fill-color);\n",
              "      border-top-color: var(--fill-color);\n",
              "    }\n",
              "    30% {\n",
              "      border-color: transparent;\n",
              "      border-left-color: var(--fill-color);\n",
              "      border-top-color: var(--fill-color);\n",
              "      border-right-color: var(--fill-color);\n",
              "    }\n",
              "    40% {\n",
              "      border-color: transparent;\n",
              "      border-right-color: var(--fill-color);\n",
              "      border-top-color: var(--fill-color);\n",
              "    }\n",
              "    60% {\n",
              "      border-color: transparent;\n",
              "      border-right-color: var(--fill-color);\n",
              "    }\n",
              "    80% {\n",
              "      border-color: transparent;\n",
              "      border-right-color: var(--fill-color);\n",
              "      border-bottom-color: var(--fill-color);\n",
              "    }\n",
              "    90% {\n",
              "      border-color: transparent;\n",
              "      border-bottom-color: var(--fill-color);\n",
              "    }\n",
              "  }\n",
              "</style>\n",
              "\n",
              "  <script>\n",
              "    async function quickchart(key) {\n",
              "      const quickchartButtonEl =\n",
              "        document.querySelector('#' + key + ' button');\n",
              "      quickchartButtonEl.disabled = true;  // To prevent multiple clicks.\n",
              "      quickchartButtonEl.classList.add('colab-df-spinner');\n",
              "      try {\n",
              "        const charts = await google.colab.kernel.invokeFunction(\n",
              "            'suggestCharts', [key], {});\n",
              "      } catch (error) {\n",
              "        console.error('Error during call to suggestCharts:', error);\n",
              "      }\n",
              "      quickchartButtonEl.classList.remove('colab-df-spinner');\n",
              "      quickchartButtonEl.classList.add('colab-df-quickchart-complete');\n",
              "    }\n",
              "    (() => {\n",
              "      let quickchartButtonEl =\n",
              "        document.querySelector('#df-045d1a3d-c713-488e-9d27-f484b24972db button');\n",
              "      quickchartButtonEl.style.display =\n",
              "        google.colab.kernel.accessAllowed ? 'block' : 'none';\n",
              "    })();\n",
              "  </script>\n",
              "</div>\n",
              "    </div>\n",
              "  </div>\n"
            ],
            "application/vnd.google.colaboratory.intrinsic+json": {
              "type": "dataframe",
              "variable_name": "Volkswagen_cars",
              "repr_error": "0"
            }
          },
          "metadata": {},
          "execution_count": 11
        }
      ]
    },
    {
      "cell_type": "code",
      "source": [
        "#checking the unique models of cars\n",
        "Volkswagen_cars[\"model\"].unique()"
      ],
      "metadata": {
        "colab": {
          "base_uri": "https://localhost:8080/"
        },
        "id": "UrxagNwbjAG8",
        "outputId": "6507dd2d-2b6e-4dfe-e490-f034e52e17fc"
      },
      "execution_count": null,
      "outputs": [
        {
          "output_type": "execute_result",
          "data": {
            "text/plain": [
              "array(['Jetta', 'Passat', 'New Beetle', 'Golf', 'Jetta SportWagen', 'Eos',\n",
              "       'Tiguan', 'Beetle', 'CC', 'Touareg', 'Jetta GLI', 'R32', 'GTI',\n",
              "       'Golf R', 'Cabrio', 'Jetta Hybrid', 'Routan'], dtype=object)"
            ]
          },
          "metadata": {},
          "execution_count": 12
        }
      ]
    },
    {
      "cell_type": "code",
      "source": [
        "#use the mapping functions"
      ],
      "metadata": {
        "id": "dXI2urgsjBir"
      },
      "execution_count": null,
      "outputs": []
    },
    {
      "cell_type": "code",
      "source": [
        "#create dictionary of label: values in order\n",
        "rating_dict={'Excellent':5,'New':4,'Like New':3, 'Good':2,'Fair':1}"
      ],
      "metadata": {
        "id": "E-FQNrE6DPCg"
      },
      "execution_count": null,
      "outputs": []
    },
    {
      "cell_type": "code",
      "source": [
        "#printing the value counts of each condition\n",
        "print(cars['condition'].value_counts())"
      ],
      "metadata": {
        "colab": {
          "base_uri": "https://localhost:8080/"
        },
        "id": "_OWYmZ10CUdS",
        "outputId": "f692b898-05e3-484d-b970-13010b3f039d"
      },
      "execution_count": null,
      "outputs": [
        {
          "output_type": "stream",
          "name": "stdout",
          "text": [
            "condition\n",
            "1.9    732\n",
            "3.5    507\n",
            "4.3    475\n",
            "4.4    468\n",
            "4.1    460\n",
            "3.7    446\n",
            "3.6    422\n",
            "4.2    404\n",
            "2.0    376\n",
            "4.0    370\n",
            "2.9    357\n",
            "3.9    351\n",
            "2.8    338\n",
            "2.7    303\n",
            "3.4    303\n",
            "3.8    297\n",
            "2.6    225\n",
            "4.9    224\n",
            "4.6    220\n",
            "4.8    220\n",
            "4.5    219\n",
            "2.5    203\n",
            "3.3    199\n",
            "3.0    197\n",
            "4.7    191\n",
            "5.0    186\n",
            "3.2    179\n",
            "2.4    175\n",
            "2.1    162\n",
            "3.1    156\n",
            "2.3    154\n",
            "1.0    127\n",
            "2.2    110\n",
            "1.8      8\n",
            "1.7      5\n",
            "1.3      3\n",
            "1.4      2\n",
            "1.6      1\n",
            "1.5      1\n",
            "1.1      1\n",
            "Name: count, dtype: int64\n"
          ]
        }
      ]
    },
    {
      "cell_type": "code",
      "source": [
        "#create new variable with assigned numbers\n",
        "cars['condition'].unique()"
      ],
      "metadata": {
        "colab": {
          "base_uri": "https://localhost:8080/"
        },
        "id": "GJQUpMQTCiwz",
        "outputId": "99b51ac0-dc36-43d1-d008-361bcaa2f888"
      },
      "execution_count": null,
      "outputs": [
        {
          "output_type": "execute_result",
          "data": {
            "text/plain": [
              "array([1.9, 4.9, 3.8, 5. , 4.1, 4.4, 2.8, 3.5, 4.7, 3.4, 3.9, 2. , 3.7,\n",
              "       2.9, 3.6, 4.8, 3. , 2.5, 4.6, 2.2, 2.7, 4.2, 2.6, 1. , 3.2, 4.5,\n",
              "       4.3, 1.8, 4. , 3.3, nan, 2.3, 2.1, 3.1, 2.4, 1.3, 1.7, 1.6, 1.4,\n",
              "       1.5, 1.1])"
            ]
          },
          "metadata": {},
          "execution_count": 19
        }
      ]
    },
    {
      "cell_type": "code",
      "source": [
        "#printing min and max\n",
        "print(min(cars['condition'].unique()),max(cars['condition'].unique()))"
      ],
      "metadata": {
        "colab": {
          "base_uri": "https://localhost:8080/"
        },
        "id": "QLyY1H9sEVaE",
        "outputId": "23cd0857-10de-401d-ed4a-50792a9551d2"
      },
      "execution_count": 8,
      "outputs": [
        {
          "output_type": "stream",
          "name": "stdout",
          "text": [
            "1.0 5.0\n"
          ]
        }
      ]
    },
    {
      "cell_type": "code",
      "source": [
        "# categorizing the output\n",
        "def convert_condition(A):\n",
        "  if 1.0<=A<2:\n",
        "    return 'Fair'\n",
        "\n",
        "  elif 2<=A<3:\n",
        "    return 'Good'\n",
        "\n",
        "  elif 3<=A<4:\n",
        "    return 'Like New'\n",
        "\n",
        "  elif 4<=A<5:\n",
        "    return 'New'\n",
        "\n",
        "  elif A==5:\n",
        "    return 'Excellent'\n",
        "\n",
        "  else:\n",
        "    'Unknown'\n",
        "\n",
        "\n",
        "cars[\"condition\"] = cars[\"condition\"].apply(convert_condition)\n"
      ],
      "metadata": {
        "id": "V_hZuNX4IOjm"
      },
      "execution_count": null,
      "outputs": []
    },
    {
      "cell_type": "code",
      "source": [
        "#finding the unique car conditions\n",
        "cars['condition'].unique()"
      ],
      "metadata": {
        "colab": {
          "base_uri": "https://localhost:8080/"
        },
        "id": "nLRJZC1dKPqq",
        "outputId": "c9cac54b-b311-41fe-a4b1-2b3d0a9e8784"
      },
      "execution_count": null,
      "outputs": [
        {
          "output_type": "execute_result",
          "data": {
            "text/plain": [
              "array(['Fair', 'New', 'Like New', 'Excellent', 'Good', None], dtype=object)"
            ]
          },
          "metadata": {},
          "execution_count": 32
        }
      ]
    },
    {
      "cell_type": "code",
      "source": [
        "#finding the unique colors\n",
        "cars['color'].unique()"
      ],
      "metadata": {
        "colab": {
          "base_uri": "https://localhost:8080/"
        },
        "id": "yTMsCpaqMrxk",
        "outputId": "3f20ae18-66dd-42ce-ecba-d9e3f5199070"
      },
      "execution_count": null,
      "outputs": [
        {
          "output_type": "execute_result",
          "data": {
            "text/plain": [
              "array(['blue', '—', 'gold', 'white', 'red', 'silver', 'black', 'gray',\n",
              "       'burgundy', 'brown', 'turquoise', 'orange', 'green', 'beige',\n",
              "       'yellow', 'purple', 'off-white', 'charcoal', nan, 'pink'],\n",
              "      dtype=object)"
            ]
          },
          "metadata": {},
          "execution_count": 35
        }
      ]
    },
    {
      "cell_type": "code",
      "source": [
        "#finding the number of unique colors\n",
        "cars['color'].nunique()"
      ],
      "metadata": {
        "colab": {
          "base_uri": "https://localhost:8080/"
        },
        "id": "scIYrW9zN_w-",
        "outputId": "ceaa45fa-cfe3-466f-9cdd-924c121b5c85"
      },
      "execution_count": null,
      "outputs": [
        {
          "output_type": "execute_result",
          "data": {
            "text/plain": [
              "19"
            ]
          },
          "metadata": {},
          "execution_count": 36
        }
      ]
    },
    {
      "cell_type": "code",
      "source": [
        "#let’s look at the nominal data\n",
        "#top five\n",
        "#use value counts to see transformation\n",
        "print(cars['color'].value_counts()[:5])"
      ],
      "metadata": {
        "colab": {
          "base_uri": "https://localhost:8080/"
        },
        "id": "mAuj9-SwONGS",
        "outputId": "b312b468-afbd-4240-8dcb-0cdeff6140df"
      },
      "execution_count": null,
      "outputs": [
        {
          "output_type": "stream",
          "name": "stdout",
          "text": [
            "color\n",
            "black     2015\n",
            "white     1931\n",
            "gray      1506\n",
            "silver    1503\n",
            "blue       869\n",
            "Name: count, dtype: int64\n"
          ]
        }
      ]
    },
    {
      "cell_type": "code",
      "source": [
        "cars.dtypes"
      ],
      "metadata": {
        "colab": {
          "base_uri": "https://localhost:8080/"
        },
        "id": "ilAMZ9CqPR6z",
        "outputId": "c23fcd4f-a656-4485-ce88-bb6e2f2de037"
      },
      "execution_count": null,
      "outputs": [
        {
          "output_type": "execute_result",
          "data": {
            "text/plain": [
              "Unnamed: 0        int64\n",
              "year              int64\n",
              "make             object\n",
              "model            object\n",
              "trim             object\n",
              "body             object\n",
              "transmission     object\n",
              "vin              object\n",
              "state            object\n",
              "condition        object\n",
              "odometer        float64\n",
              "color            object\n",
              "interior         object\n",
              "seller           object\n",
              "mmr               int64\n",
              "sellingprice      int64\n",
              "saledate         object\n",
              "Unnamed: 16     float64\n",
              "dtype: object"
            ]
          },
          "metadata": {},
          "execution_count": 45
        }
      ]
    },
    {
      "cell_type": "code",
      "source": [
        "#\n",
        "cars['color'] = cars['color'].astype('category')"
      ],
      "metadata": {
        "id": "8xWzgg9PPnmi"
      },
      "execution_count": null,
      "outputs": []
    },
    {
      "cell_type": "code",
      "source": [
        "#\n",
        "cars['color'] = cars['color'].cat.codes"
      ],
      "metadata": {
        "id": "05ssLELwWSwS"
      },
      "execution_count": null,
      "outputs": []
    },
    {
      "cell_type": "code",
      "source": [
        "print(cars['color'].value_counts()[:5])"
      ],
      "metadata": {
        "colab": {
          "base_uri": "https://localhost:8080/"
        },
        "id": "TYROcO4aW4t2",
        "outputId": "80474ab4-ee07-4f92-bbab-696095355c33"
      },
      "execution_count": null,
      "outputs": [
        {
          "output_type": "stream",
          "name": "stdout",
          "text": [
            "color\n",
            "1     2015\n",
            "16    1931\n",
            "7     1506\n",
            "14    1503\n",
            "2      869\n",
            "Name: count, dtype: int64\n"
          ]
        }
      ]
    },
    {
      "cell_type": "code",
      "source": [],
      "metadata": {
        "id": "XDqAXVPSYedY"
      },
      "execution_count": null,
      "outputs": []
    }
  ]
}