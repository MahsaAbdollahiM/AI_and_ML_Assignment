{
  "nbformat": 4,
  "nbformat_minor": 0,
  "metadata": {
    "colab": {
      "provenance": [],
      "authorship_tag": "ABX9TyPHnBTk7QddjwCkw7o4lZTq",
      "include_colab_link": true
    },
    "kernelspec": {
      "name": "python3",
      "display_name": "Python 3"
    },
    "language_info": {
      "name": "python"
    }
  },
  "cells": [
    {
      "cell_type": "markdown",
      "metadata": {
        "id": "view-in-github",
        "colab_type": "text"
      },
      "source": [
        "<a href=\"https://colab.research.google.com/github/MahsaAbdollahiM/AI_and_ML_Assignment/blob/main/Fraud%20detection.ipynb\" target=\"_parent\"><img src=\"https://colab.research.google.com/assets/colab-badge.svg\" alt=\"Open In Colab\"/></a>"
      ]
    },
    {
      "cell_type": "markdown",
      "source": [
        "## Fraud Detection Dataset Overview\n",
        "The dataset contains information about financial transactions.\n",
        "Each row represents a single transaction.\n",
        "The data may have been preprocessed or modified for specific purposes, such as fraud detection.\n",
        "Features include transaction details such as amount, type, old balance, new balance, and additional engineered features.\n",
        "The target variable (label) for analysis is 'isFraud', which indicates whether a transaction is fraudulent or not.\n",
        "\n",
        "The code first imports necessary libraries such as pandas, numpy, and scikit-learn modules.\n",
        "Data is loaded from a CSV file, and basic information about the dataset is displayed.\n",
        "Features and labels are defined based on the dataset columns.\n",
        "The dataset is split into training and testing sets.\n",
        "Feature scaling is performed using StandardScaler.\n",
        "A Logistic Regression model is trained on the training data.\n",
        "The model's performance is evaluated on both training and testing sets.\n",
        "Finally, the model is used to predict fraud on new transaction data, and probabilities of fraud are displayed."
      ],
      "metadata": {
        "id": "Kp-VrxzkB5Rw"
      }
    },
    {
      "cell_type": "code",
      "execution_count": 17,
      "metadata": {
        "id": "Y5oSb5GK68r0"
      },
      "outputs": [],
      "source": [
        "# loading initial libraries\n",
        "import seaborn\n",
        "import pandas as pd\n",
        "import numpy as np\n",
        "import matplotlib.pyplot as plt\n",
        "from sklearn.linear_model import LogisticRegression\n",
        "from sklearn.model_selection import train_test_split\n",
        "from sklearn.preprocessing import StandardScaler\n",
        "\n"
      ]
    },
    {
      "cell_type": "code",
      "source": [
        "# Load the transaction data from a CSV file\n",
        "transactions = pd.read_csv('transactions_modified.csv', delimiter=';')\n",
        "\n",
        "# Display the first few rows and information about the dataset\n",
        "print(transactions.head())\n",
        "print(transactions.info())\n",
        "\n",
        "#Summary statistics on amount column\n",
        "transactions['amount'].describe()"
      ],
      "metadata": {
        "colab": {
          "base_uri": "https://localhost:8080/"
        },
        "id": "A58XGJ9UFQ8K",
        "outputId": "60a92b03-cdb4-47e6-8a13-cf6c56566e1e"
      },
      "execution_count": 18,
      "outputs": [
        {
          "output_type": "stream",
          "name": "stdout",
          "text": [
            "   step      type      amount     nameOrig  oldbalanceOrg  newbalanceOrig  \\\n",
            "0   206  CASH_OUT    62927.08   C473782114           0.00            0.00   \n",
            "1   380   PAYMENT    32851.57  C1915112886           0.00            0.00   \n",
            "2   570  CASH_OUT  1131750.38  C1396198422     1131750.38            0.00   \n",
            "3   184  CASH_OUT    60519.74   C982551468       60519.74            0.00   \n",
            "4   162   CASH_IN    46716.01  C1759889425     7668050.60      7714766.61   \n",
            "\n",
            "      nameDest  oldbalanceDest  newbalanceDest  isFraud  isPayment  \\\n",
            "0  C2096898696       649420.67       712347.75        0          0   \n",
            "1   M916879292            0.00            0.00        0          1   \n",
            "2  C1612235515       313070.53      1444820.92        1          0   \n",
            "3  C1378644910        54295.32       182654.50        1          0   \n",
            "4  C2059152908      2125468.75      2078752.75        0          0   \n",
            "\n",
            "   isMovement  accountDiff  \n",
            "0           1    649420.67  \n",
            "1           0         0.00  \n",
            "2           1    818679.85  \n",
            "3           1      6224.42  \n",
            "4           0   5542581.85  \n",
            "<class 'pandas.core.frame.DataFrame'>\n",
            "RangeIndex: 1000 entries, 0 to 999\n",
            "Data columns (total 13 columns):\n",
            " #   Column          Non-Null Count  Dtype  \n",
            "---  ------          --------------  -----  \n",
            " 0   step            1000 non-null   int64  \n",
            " 1   type            1000 non-null   object \n",
            " 2   amount          1000 non-null   float64\n",
            " 3   nameOrig        1000 non-null   object \n",
            " 4   oldbalanceOrg   1000 non-null   float64\n",
            " 5   newbalanceOrig  1000 non-null   float64\n",
            " 6   nameDest        1000 non-null   object \n",
            " 7   oldbalanceDest  1000 non-null   float64\n",
            " 8   newbalanceDest  1000 non-null   float64\n",
            " 9   isFraud         1000 non-null   int64  \n",
            " 10  isPayment       1000 non-null   int64  \n",
            " 11  isMovement      1000 non-null   int64  \n",
            " 12  accountDiff     1000 non-null   float64\n",
            "dtypes: float64(6), int64(4), object(3)\n",
            "memory usage: 101.7+ KB\n",
            "None\n"
          ]
        },
        {
          "output_type": "execute_result",
          "data": {
            "text/plain": [
              "count    1.000000e+03\n",
              "mean     5.373080e+05\n",
              "std      1.423692e+06\n",
              "min      0.000000e+00\n",
              "25%      2.933705e+04\n",
              "50%      1.265305e+05\n",
              "75%      3.010378e+05\n",
              "max      1.000000e+07\n",
              "Name: amount, dtype: float64"
            ]
          },
          "metadata": {},
          "execution_count": 18
        }
      ]
    },
    {
      "cell_type": "code",
      "source": [
        "\n",
        "# Create a new feature 'isPayment' based on transaction type\n",
        "transactions['isPayment'] = 0\n",
        "transactions['isPayment'] = 0\n",
        "transactions['isPayment'][transactions['type'].isin(['PAYMENT','DEBIT'])] = 1\n",
        "\n",
        "# Create a new feature 'isMovement' based on transaction type\n",
        "transactions['isMovement'] = 0\n",
        "transactions['isMovement'][transactions['type'].isin(['CASH_OUT', 'TRANSFER'])] = 1\n",
        "\n",
        "# Create a new feature 'accountDiff' representing the absolute difference between old balances\n",
        "transactions['accountDiff'] = abs(transactions['oldbalanceDest'] - transactions['oldbalanceOrg'])"
      ],
      "metadata": {
        "colab": {
          "base_uri": "https://localhost:8080/"
        },
        "id": "vGTaKiC-FasT",
        "outputId": "bb12a913-328a-41b8-fa1e-4c5608e39b59"
      },
      "execution_count": 19,
      "outputs": [
        {
          "output_type": "stream",
          "name": "stderr",
          "text": [
            "<ipython-input-19-a80921793ba9>:4: SettingWithCopyWarning: \n",
            "A value is trying to be set on a copy of a slice from a DataFrame\n",
            "\n",
            "See the caveats in the documentation: https://pandas.pydata.org/pandas-docs/stable/user_guide/indexing.html#returning-a-view-versus-a-copy\n",
            "  transactions['isPayment'][transactions['type'].isin(['PAYMENT','DEBIT'])] = 1\n",
            "<ipython-input-19-a80921793ba9>:8: SettingWithCopyWarning: \n",
            "A value is trying to be set on a copy of a slice from a DataFrame\n",
            "\n",
            "See the caveats in the documentation: https://pandas.pydata.org/pandas-docs/stable/user_guide/indexing.html#returning-a-view-versus-a-copy\n",
            "  transactions['isMovement'][transactions['type'].isin(['CASH_OUT', 'TRANSFER'])] = 1\n"
          ]
        }
      ]
    },
    {
      "cell_type": "code",
      "source": [
        "#  Define features (independent variables) and labels (dependent variable)\n",
        "features = transactions[['amount','isPayment','isMovement','accountDiff']]\n",
        "label = transactions['isFraud']\n"
      ],
      "metadata": {
        "id": "VSk5MoRD8LBT"
      },
      "execution_count": 20,
      "outputs": []
    },
    {
      "cell_type": "code",
      "source": [
        "# Split the data into training and testing sets\n",
        "X_train, X_test, y_train, y_test = train_test_split(features, label, test_size=0.3)\n",
        "\n",
        "# Normalize the features variables using StandardScaler\n",
        "scaler = StandardScaler()\n",
        "X_train = scaler.fit_transform(X_train)\n",
        "X_test = scaler.transform(X_test)\n",
        "\n",
        "# Fit the model to the training data, Initialize and train a Logistic Regression model\n",
        "model = LogisticRegression()\n",
        "model.fit(X_train, y_train)\n",
        "\n",
        "# Score the model on the training data\n",
        "print(model.score(X_train, y_train))\n",
        "\n",
        "# Score the model on the test data\n",
        "print(model.score(X_test, y_test))\n",
        "\n",
        "# Print the model coefficients\n",
        "print(model.coef_)\n"
      ],
      "metadata": {
        "colab": {
          "base_uri": "https://localhost:8080/"
        },
        "id": "XdfZ36Mm-AZy",
        "outputId": "e5e3ada9-3da5-4592-82d3-b1d506b8dd3f"
      },
      "execution_count": 21,
      "outputs": [
        {
          "output_type": "stream",
          "name": "stdout",
          "text": [
            "0.8285714285714286\n",
            "0.87\n",
            "[[ 2.41674683 -0.62539346  2.04023623 -1.06798595]]\n"
          ]
        }
      ]
    },
    {
      "cell_type": "code",
      "source": [
        "# Define New transaction data\n",
        "transaction1 = np.array([123456.78, 0.0, 1.0, 54670.1])\n",
        "transaction2 = np.array([98765.43, 1.0, 0.0, 8524.75])\n",
        "transaction3 = np.array([543678.31, 1.0, 0.0, 510025.5])\n",
        "transaction4 = np.array([6472.54, 1.0, 0.0, 55901.23])\n"
      ],
      "metadata": {
        "id": "2z3K5Sd8-Cbd"
      },
      "execution_count": 22,
      "outputs": []
    },
    {
      "cell_type": "code",
      "source": [
        "# Combine new transactions into a single array\n",
        "sample_transactions = np.stack((transaction1,transaction2,transaction3,transaction4))\n",
        "\n",
        "# Normalize the new transactions\n",
        "sample_transactions = scaler.transform(sample_transactions)\n",
        "\n",
        "# Predict fraud on the new transactions\n",
        "print(\"Predicted Fraud Status:\",model.predict(sample_transactions))\n",
        "\n",
        "# Show probabilities on the new transactions\n",
        "print(\"Fraud Probabilities:\",model.predict_proba(sample_transactions))"
      ],
      "metadata": {
        "colab": {
          "base_uri": "https://localhost:8080/"
        },
        "id": "Lg9NHdHi_Pse",
        "outputId": "15fcba2b-2e5c-42a7-d1b3-2ecb7ea53d76"
      },
      "execution_count": 23,
      "outputs": [
        {
          "output_type": "stream",
          "name": "stdout",
          "text": [
            "Predicted Fraud Status: [0 0 0 0]\n",
            "Fraud Probabilities: [[0.61687566 0.38312434]\n",
            " [0.99801698 0.00198302]\n",
            " [0.99635574 0.00364426]\n",
            " [0.99832496 0.00167504]]\n"
          ]
        },
        {
          "output_type": "stream",
          "name": "stderr",
          "text": [
            "/usr/local/lib/python3.10/dist-packages/sklearn/base.py:439: UserWarning: X does not have valid feature names, but StandardScaler was fitted with feature names\n",
            "  warnings.warn(\n"
          ]
        }
      ]
    }
  ]
}